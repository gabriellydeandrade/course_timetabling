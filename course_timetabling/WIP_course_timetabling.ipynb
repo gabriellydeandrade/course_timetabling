{
 "cells": [
  {
   "cell_type": "markdown",
   "metadata": {},
   "source": [
    "# Course Timetabling"
   ]
  },
  {
   "cell_type": "markdown",
   "metadata": {},
   "source": [
    "### Fase I: Planejamento Estratégico"
   ]
  },
  {
   "cell_type": "markdown",
   "metadata": {},
   "source": [
    "Etapa 1: Identificação dos Stakeholders\n",
    "- Objetivo: Identificar todos os envolvidos no processo de agendamento de cursos, incluindo professores, chefes de departamento, executivos da universidade e outros funcionários relevantes.\n",
    "\n",
    "Etapa 2: Formação da Equipe Transdisciplinar\n",
    "- Objetivo: Montar uma equipe representativa com membros de várias disciplinas para abordar o problema de agendamento de forma holística.\n"
   ]
  },
  {
   "cell_type": "markdown",
   "metadata": {},
   "source": [
    "### Fase II: Construção de Dados Estruturais\n",
    "\n"
   ]
  },
  {
   "cell_type": "markdown",
   "metadata": {},
   "source": [
    "Etapa 3: Definição do Horizonte de Planejamento e Escopo\n",
    "- Objetivo: Estabelecer o período de tempo e o alcance do projeto de agendamento.\n",
    "- O planejamento da grade horária é definido para um semestre acadêmico. Em um ano temos dois semestres, como por exemplo 2024.1 e 2024.2 para o ano 2024. Para cada semestre, temos um período de planejamento.\n",
    "- Vai ser abordado todas as disciplinas de graduação (ciência da computação e serviços) e pós graduação\n",
    "\n",
    "\n",
    "- Exemplo Numérico: O horizonte de planejamento é definido para o semestre acadêmico de janeiro a junho, abrangendo todos os programas de graduação da universidade.\n",
    "\n",
    "\n",
    "Etapa 4: Definição dos Intervalos de Tempo Comuns Mínimos\n",
    "- Objetivo: Determinar os blocos de tempo fundamentais para o agendamento.\n",
    "- Exemplo Numérico: Blocos de 30 minutos são estabelecidos como o intervalo de tempo padrão.\n"
   ]
  }
 ],
 "metadata": {
  "kernelspec": {
   "display_name": "base",
   "language": "python",
   "name": "python3"
  },
  "language_info": {
   "name": "python",
   "version": "3.8.8"
  }
 },
 "nbformat": 4,
 "nbformat_minor": 2
}
