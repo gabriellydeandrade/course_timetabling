{
 "cells": [
  {
   "cell_type": "markdown",
   "metadata": {},
   "source": [
    "# Course Timetabling: Estudo de caso para o problema de agendamento de grade horária"
   ]
  },
  {
   "cell_type": "markdown",
   "metadata": {},
   "source": [
    "## Fase 1: Alocação de professor em disciplina"
   ]
  },
  {
   "cell_type": "markdown",
   "metadata": {},
   "source": [
    "Objetivo:\n",
    "- Maximizar a performance acadêmica (EAP, professor habilitado em dar a disciplina) e o número de restrições fracas atendidas\n",
    "- Alocar professores efetivos e substitutos em disciplinas (obrigatórias, eletivas e de serviço) conforme as regras do instituto da computação da UFRJ"
   ]
  },
  {
   "cell_type": "markdown",
   "metadata": {},
   "source": [
    "### Modelagem"
   ]
  },
  {
   "cell_type": "markdown",
   "metadata": {},
   "source": [
    "Conjuntos:\n",
    "\n",
    "- $P$: Conjunto de professsores $p \\in P$\n",
    "- $D$: Conjunto de disciplinas ofertadas atrelada a uma turma T com o detalhamento da disciplina $d \\in D$\n",
    "- $Cred_d$: Conjunto de créditos das disciplinas $Cred_d \\in D$\n",
    "- $DAptas_p \\subset D$: Subconjunto de disciplinas nas quais o professor p está habilitado a dar aulas.\n",
    "- $H_d$: Subconjunto de horários das disciplinas $H_d \\in D$\n",
    "- $DS_d$: Subconjunto de dias da semana das disciplinas $DS_d \\in D$\n",
    "- $H_d$: Subconjunto com todos os horários possíveis para uma disciplina $H_d \\in D$\n",
    "- $DS_d$: Subconjunto com todos os dias da semana possíveis para uma disciplina $DS_d \\in D$\n",
    "- $D_h$: Subconjunto de disciplinas que possuem o horário h ($h \\in H_d$)\n",
    "- $D_{ds}$: Subconjunto de disciplinas que possuem o dia da semana ds ($ds \\in DS_d$)\n",
    "\n",
    "\n",
    "\n",
    "<!-- - $D_p \\subset D$: Preferências de disciplinas de cada professor p -->\n",
    "<!-- - $Tp \\subset H Preferência de turno de cada professor p; -->"
   ]
  },
  {
   "cell_type": "markdown",
   "metadata": {},
   "source": [
    "#### Variáveis\n",
    "\n",
    "1) Alocação de professor em disciplina de uma turma \n",
    "\n",
    "\n",
    "$$\n",
    "X_{p,d} \\in (0,1) =\n",
    "\n",
    "\\begin{cases}\n",
    "1 &  \\quad \\text{se o professor p for alocado na disciplina d}\\\\ \n",
    "0 & \\quad \\text{caso contrário} \n",
    "\\end{cases}\n",
    "\n",
    "$$\n",
    "\n",
    "$$\n",
    "p \\in P, d \\in D\n",
    "$$"
   ]
  },
  {
   "cell_type": "markdown",
   "metadata": {},
   "source": [
    "#### Coeficientes\n",
    "\n",
    "\n",
    "1) Professor habilitado em dar disciplina\n",
    "\n",
    "$$\n",
    "\n",
    "f_{p,d} \\in (0,1) = \n",
    "\n",
    "\\begin{cases}\n",
    "1 &  \\quad d \\in DAptas_p\\\\ \n",
    "0 & \\quad \\text{caso contrário}\n",
    "\\end{cases}\n",
    "\n",
    "$$\n",
    "\n",
    "$$\n",
    "p \\in P, d \\in D\n",
    "$$\n",
    "<!-- \n",
    "3) Professor com preferência em dar uma determinada disciplina\n",
    "\n",
    "$$\n",
    "\n",
    "k_p \\in (0,1) = \n",
    "\n",
    "\\begin{cases}\n",
    "1 &  \\quad d \\in D_p\\\\ \n",
    "0 & \\quad \\text{caso contrário}\n",
    "\\end{cases}\n",
    "\n",
    "$$ -->"
   ]
  },
  {
   "cell_type": "markdown",
   "metadata": {},
   "source": [
    "### Função objetivo\n",
    "\n",
    "Maximizar a performance acadêmica (EAP, professor habilitado em dar a disciplina) \n",
    "<!-- e o número de restrições fracas atendidas -->\n",
    "\n",
    "$$\n",
    "MAX \\sum_{p \\in P}\\sum_{d \\in D} f_{p,d}X_{p,d}\n",
    "$$"
   ]
  },
  {
   "cell_type": "markdown",
   "metadata": {},
   "source": [
    "### Restrições"
   ]
  },
  {
   "cell_type": "markdown",
   "metadata": {},
   "source": [
    "##### Restrições fortes\n",
    "\n",
    "RH1: Regime de trabalho (quantidade de horas) - quantidade de créditos mínimo\n",
    "\n",
    "- $cred_{min}$: Número de créditos mínimos: 8. Cada professor precisa dar no mínimo 8 créditos horas de aula por semana (cada disciplina geralmente possui 4 créditos). Para a equação, temos o professor p fixado e pertencente ao conjunto P.\n",
    "\n",
    "$$\n",
    "\\sum_{d \\in D} cred_d X_{p,d} \\geq cred_{min} \\quad p \\in P\n",
    "$$\n",
    "\n",
    "RH2: Regime de trabalho (quantidade de horas) - quantidade de créditos máximo\n",
    "\n",
    "- $cred_{max}$: Número de créditos máximos: 12. Às vezes professores podem dar 12 créditos por semana. Para a equação, temos o professor p fixado e pertencente ao conjunto P.\n",
    "\n",
    "$$\n",
    "\\sum_{d \\in D} cred_d X_{p,d} \\leq cred_{max} \\quad p \\in P\n",
    "$$\n",
    "\n",
    "RH3: Uma disciplina de uma turma, deverá ser ministrada por um único professor\n",
    "\n",
    "$$\n",
    "\\sum_{p \\in P} X_{p,d} = 1  \\quad d \\in D\n",
    "$$\n",
    "\n",
    "RH4: Um professor poderá dar no máximo 1 disciplina de uma turma em um mesmo dia e horário (binário OU >= 1)\n",
    "\n",
    "\n",
    "$$\n",
    "\\sum_{d \\in (D_h \\cap D_{ds})} X_{p,d} \\leq 1  \\quad p \\in P, h \\in H_d, ds \\in DS_d \n",
    "$$\n",
    "\n",
    "\n",
    "\n",
    "\n"
   ]
  },
  {
   "cell_type": "markdown",
   "metadata": {},
   "source": []
  }
 ],
 "metadata": {
  "kernelspec": {
   "display_name": "Python 3",
   "language": "python",
   "name": "python3"
  },
  "language_info": {
   "codemirror_mode": {
    "name": "ipython",
    "version": 3
   },
   "file_extension": ".py",
   "mimetype": "text/x-python",
   "name": "python",
   "nbconvert_exporter": "python",
   "pygments_lexer": "ipython3",
   "version": "3.9.6"
  }
 },
 "nbformat": 4,
 "nbformat_minor": 2
}
