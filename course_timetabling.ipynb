{
 "cells": [
  {
   "cell_type": "markdown",
   "metadata": {},
   "source": [
    "# Course Timetabling: Estudo de caso para o problema de agendamento de grade horária"
   ]
  },
  {
   "cell_type": "markdown",
   "metadata": {},
   "source": [
    "## Fase 1: Alocação de professor em disciplina"
   ]
  },
  {
   "cell_type": "markdown",
   "metadata": {},
   "source": [
    "Objetivo:\n",
    "- Maximizar a performance acadêmica (EAP, professor habilitado em dar a disciplina) e o número de restrições fracas atendidas\n",
    "- Alocar professores efetivos e substitutos em disciplinas (obrigatórias, eletivas e de serviço) conforme as regras do instituto da computação da UFRJ"
   ]
  },
  {
   "cell_type": "markdown",
   "metadata": {},
   "source": [
    "### Modelagem"
   ]
  },
  {
   "cell_type": "markdown",
   "metadata": {},
   "source": [
    "Conjuntos:\n",
    "\n",
    "- $p \\in P$: Conjunto de professsores\n",
    "- $d \\in D$: Conjunto de disciplinas ofertadas\n",
    "- $Cred_d$: Conjunto de créditos de cada disciplina\n",
    "- $D_p \\subset D$: Preferências de disciplinas de cada professor p\n",
    "- $B_p \\subset D$: Disciplinas nas quais o professor p está habilitado a dar aulas.\n",
    "\n",
    "<!-- - $Tp \\subset H Preferência de turno de cada professor p; -->"
   ]
  },
  {
   "cell_type": "markdown",
   "metadata": {},
   "source": [
    "#### Variáveis\n",
    "\n",
    "1) Alocação de professor em disciplina\n",
    "\n",
    "$$\n",
    "X_{p,d} \\in (0,1) =\n",
    "\n",
    "\\begin{cases}\n",
    "1 &  \\quad \\text{se o professor p for alocado na disciplina d}\\\\ \n",
    "0 & \\quad \\text{caso contrário}\n",
    "\\end{cases}\n",
    "\n",
    "$$\n",
    "\n",
    "2) Professor habilitado em dar disciplina\n",
    "\n",
    "$$\n",
    "\n",
    "b_p \\in (0,1) = \n",
    "\n",
    "\\begin{cases}\n",
    "1 &  \\quad d \\in B_p\\\\ \n",
    "0 & \\quad \\text{caso contrário}\n",
    "\\end{cases}\n",
    "\n",
    "$$\n",
    "\n",
    "3) Professor com preferência em dar uma determinada disciplina\n",
    "\n",
    "$$\n",
    "\n",
    "k_p \\in (0,1) = \n",
    "\n",
    "\\begin{cases}\n",
    "1 &  \\quad d \\in D_p\\\\ \n",
    "0 & \\quad \\text{caso contrário}\n",
    "\\end{cases}\n",
    "\n",
    "$$"
   ]
  },
  {
   "cell_type": "markdown",
   "metadata": {},
   "source": [
    "#### Restrições"
   ]
  },
  {
   "cell_type": "markdown",
   "metadata": {},
   "source": [
    "##### Restrições fortes\n",
    "\n",
    "1) Regime de trabalho (quantidade de horas). Para cada equação, temos o professor p fixado e pertencente ao conjunto P.\n",
    "\n",
    "- $cred_{min}$: Número de créditos mínimos: 8. Cada professor precisa dar no mínimo 8 créditos horas de aula por semana (cada disciplina geralmente possui 4 créditos).\n",
    "\n",
    "$$\n",
    "\\sum_{d \\in D} cred_d X_{p,d} \\geq cred_{min}\n",
    "$$\n",
    "\n",
    "\n",
    "- $cred_{max}$: Número de créditos máximos: 12. Às vezes professores podem dar 12 créditos por semana.\n",
    "\n",
    "$$\n",
    "\\sum_{d \\in D} cred_d X_{p,d} \\leq cred_{max}\n",
    "$$\n",
    "\n",
    "\n",
    "\n",
    "\n",
    "\n",
    "\n"
   ]
  },
  {
   "cell_type": "markdown",
   "metadata": {},
   "source": [
    "- $qtd\\_{prof}$ : Número de professores a escolher: 1\n",
    "\n",
    "2) Professores substitutos \n",
    "\n",
    "3) Habilitação em disciplinas\n",
    "- Cada professor deverá dar pelo menos uma aula atrelada a área de conhecimento de seu concurso"
   ]
  },
  {
   "cell_type": "markdown",
   "metadata": {},
   "source": [
    "2) Professores substitutos \n",
    "\n",
    "3) Habilitação em disciplinas\n",
    "- Cada professor deverá dar pelo menos uma aula atrelada a área de conhecimento de seu concurso"
   ]
  },
  {
   "cell_type": "markdown",
   "metadata": {},
   "source": [
    "##### Restrições fracas\n",
    "\n",
    "OBS.: Válido somente para professor efetivo\n",
    "\n",
    "1) Preferência do professor em dar uma disciplina\n",
    "2) Rotatividade de professores: cada professor deverá permanecer dando uma mesma disciplina por no máximo X períodos (ex.: 3) #TODO\n"
   ]
  },
  {
   "cell_type": "markdown",
   "metadata": {},
   "source": [
    "#### Função objetivo"
   ]
  },
  {
   "cell_type": "markdown",
   "metadata": {},
   "source": [
    "$$\n",
    "f_{p,d} = b_p \n",
    "$$"
   ]
  },
  {
   "cell_type": "markdown",
   "metadata": {},
   "source": []
  }
 ],
 "metadata": {
  "kernelspec": {
   "display_name": "Python 3",
   "language": "python",
   "name": "python3"
  },
  "language_info": {
   "codemirror_mode": {
    "name": "ipython",
    "version": 3
   },
   "file_extension": ".py",
   "mimetype": "text/x-python",
   "name": "python",
   "nbconvert_exporter": "python",
   "pygments_lexer": "ipython3",
   "version": "3.9.6"
  }
 },
 "nbformat": 4,
 "nbformat_minor": 2
}
